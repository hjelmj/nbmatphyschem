{
 "cells": [
  {
   "cell_type": "markdown",
   "metadata": {},
   "source": [
    "# pHcalc\n",
    "\n",
    "This notebook is testing the useful package [`pHcalc`](https://github.com/rnelsonchem/pHcalc) developed by Ryan Nelson. pHcalc is a Python library for systematically calculating solution pH, distribution diagrams, and titration curves.\n",
    "\n",
    "The package was installed in the Anaconda Python distribution provided by ~~[continuum.io]~~(https://www.continuum.io/) [anaconda.com](https://www.anaconda.com/). The software versions used are listed at the end of this notebook. Most of the code in this notebook is lifted directly from the documentation page on PyPI / Github.\n",
    "\n",
    "The package can be installed from PyPi (https://pypi.python.org/pypi/pHcalc) and the source code can be found here: https://github.com/rnelsonchem/pHcalc"
   ]
  },
  {
   "cell_type": "code",
   "execution_count": 5,
   "metadata": {
    "collapsed": true
   },
   "outputs": [],
   "source": [
    "from pHcalc.pHcalc import Acid, Neutral, System\n",
    "import numpy as np\n",
    "import matplotlib.pyplot as plt"
   ]
  },
  {
   "cell_type": "code",
   "execution_count": 6,
   "metadata": {
    "collapsed": true
   },
   "outputs": [],
   "source": [
    "%matplotlib inline"
   ]
  },
  {
   "cell_type": "markdown",
   "metadata": {},
   "source": [
    "### pH of 0.01 M HCl\n",
    "HCl is a strong acid, so we should expect complete dissociation."
   ]
  },
  {
   "cell_type": "code",
   "execution_count": 7,
   "metadata": {},
   "outputs": [
    {
     "name": "stdout",
     "output_type": "stream",
     "text": [
      "1.99999771118\n"
     ]
    }
   ],
   "source": [
    "cl = Neutral(charge=-1, conc=0.01)\n",
    "system = System(cl)\n",
    "system.pHsolve()\n",
    "print(system.pH) # Should print 1.9999"
   ]
  },
  {
   "cell_type": "markdown",
   "metadata": {},
   "source": [
    "### pH of 0.01 M NaOH\n",
    "NaOH is a strong base, so similar to the previous case."
   ]
  },
  {
   "cell_type": "code",
   "execution_count": 8,
   "metadata": {},
   "outputs": [
    {
     "name": "stdout",
     "output_type": "stream",
     "text": [
      "12.0000022888\n"
     ]
    }
   ],
   "source": [
    "na = Neutral(charge=1, conc=0.01)\n",
    "system = System(na)\n",
    "system.pHsolve()\n",
    "print(system.pH) # Should print 12.00000"
   ]
  },
  {
   "cell_type": "markdown",
   "metadata": {},
   "source": [
    "### pH of 1 M H$_2$SO$_4$\n",
    "H$_2$SO$_4$ is a polyprotic acid with the pK$_a$ values (pK$_{a,1}$) -3 and (pK$_{a,2}$) 1.99. The pK$_{a,2}$ value from \"Physical Constants of Organic Compounds,\" in CRC Handbook of Chemistry and Physics, 98th Edition (Internet Version 2018), John R. Rumble, ed., CRC Press/Taylor & Francis, Boca Raton, FL, and both pKa values can be found in http://evans.rc.fas.harvard.edu/pdf/evans_pKa_table.pdf."
   ]
  },
  {
   "cell_type": "code",
   "execution_count": 10,
   "metadata": {},
   "outputs": [
    {
     "name": "stdout",
     "output_type": "stream",
     "text": [
      "-0.00390396118164\n"
     ]
    }
   ],
   "source": [
    "# we'll treat it as a neutral compound with two possible dissociations here\n",
    "so4 = Acid(pKa=[-3, 1.99], charge=0, conc=1.0)\n",
    "system = System(so4)\n",
    "system.pHsolve()\n",
    "print(system.pH)"
   ]
  },
  {
   "cell_type": "code",
   "execution_count": 12,
   "metadata": {},
   "outputs": [
    {
     "name": "stdout",
     "output_type": "stream",
     "text": [
      "-0.00433654785157\n"
     ]
    }
   ],
   "source": [
    "# we can also treat it as a negatively charged compound (complete dissociation of first proton)\n",
    "so4 = Acid(pKa=1.99, charge=-1, conc=1.0)\n",
    "system = System(so4)\n",
    "system.pHsolve()\n",
    "print(system.pH)"
   ]
  },
  {
   "cell_type": "markdown",
   "metadata": {},
   "source": [
    "## Distribution Diagrams\n",
    "For a Numpy array og pH values, a 2D array of fractional distribution values is returned, where each row is a series of distributions for each given pH. The 2D returned array can be used to plot a distribution diagram"
   ]
  },
  {
   "cell_type": "markdown",
   "metadata": {},
   "source": [
    "### Phosphoric Acid"
   ]
  },
  {
   "cell_type": "code",
   "execution_count": 13,
   "metadata": {},
   "outputs": [
    {
     "data": {
      "text/plain": [
       "array([  8.60553811e-06,   6.12037500e-01,   3.87952033e-01,\n",
       "         1.86113567e-06])"
      ]
     },
     "execution_count": 13,
     "metadata": {},
     "output_type": "execute_result"
    }
   ],
   "source": [
    "phos = Acid(pKa=[2.148, 7.198, 12.319], charge=0, conc=0.01)\n",
    "phos.alpha(7.0) # Input pH value -> Returns array with mole fractions of  H_3PO_4, H2PO_4^-, HPO_4^2-, and PO_4^3-"
   ]
  },
  {
   "cell_type": "code",
   "execution_count": 14,
   "metadata": {},
   "outputs": [
    {
     "data": {
      "image/png": "[encoded data removed]",
      "text/plain": [
       "<matplotlib.figure.Figure at 0x7fba03e70fd0>"
      ]
     },
     "metadata": {},
     "output_type": "display_data"
    }
   ],
   "source": [
    "phos = Acid(pKa=[2.148, 7.198, 12.319], charge=0, conc=0.01)\n",
    "phs = np.linspace(0, 14, 1000)\n",
    "fracs = phos.alpha(phs)\n",
    "plt.plot(phs, fracs)\n",
    "plt.xlabel('pH')\n",
    "plt.ylabel('$X_i$')\n",
    "plt.show()"
   ]
  },
  {
   "cell_type": "markdown",
   "metadata": {},
   "source": [
    "### Sulphuric Acid"
   ]
  },
  {
   "cell_type": "code",
   "execution_count": 15,
   "metadata": {},
   "outputs": [
    {
     "data": {
      "image/png": "[encoded data removed]",
      "text/plain": [
       "<matplotlib.figure.Figure at 0x7fb9cc88f5c0>"
      ]
     },
     "metadata": {},
     "output_type": "display_data"
    }
   ],
   "source": [
    "so4 = Acid(pKa=[-3, 1.99], charge=0, conc=1.0)\n",
    "phs = np.linspace(0, 14, 1000)\n",
    "fracs = so4.alpha(phs)\n",
    "plt.plot(phs, fracs)\n",
    "plt.xlabel('pH')\n",
    "plt.ylabel('$X_i$')\n",
    "plt.show()"
   ]
  },
  {
   "cell_type": "markdown",
   "metadata": {},
   "source": [
    "## Titration Curves\n",
    "\n",
    "### Phosphoric Acid"
   ]
  },
  {
   "cell_type": "code",
   "execution_count": 16,
   "metadata": {},
   "outputs": [
    {
     "data": {
      "image/png": "[encoded data removed]",
      "text/plain": [
       "<matplotlib.figure.Figure at 0x7fb9ca4b8780>"
      ]
     },
     "metadata": {},
     "output_type": "display_data"
    }
   ],
   "source": [
    "na_moles = np.linspace(1e-8, 5.e-3, 500)\n",
    "sol_volume = 1. # Liter\n",
    "phos = Acid(pKa=[2.148, 7.198, 12.375], charge=0, conc=1.e-3)\n",
    "phs = []\n",
    "for mol in na_moles:\n",
    "    na = Neutral(charge=1, conc=mol/sol_volume)\n",
    "    system = System(phos, na)\n",
    "    system.pHsolve(guess_est=True)\n",
    "    phs.append(system.pH)\n",
    "plt.plot(na_moles, phs)\n",
    "plt.show()"
   ]
  },
  {
   "cell_type": "code",
   "execution_count": 17,
   "metadata": {
    "collapsed": true
   },
   "outputs": [],
   "source": [
    "%load_ext version_information"
   ]
  },
  {
   "cell_type": "code",
   "execution_count": 18,
   "metadata": {},
   "outputs": [
    {
     "data": {
      "application/json": {
       "Software versions": [
        {
         "module": "Python",
         "version": "3.6.1 64bit [GCC 4.4.7 20120313 (Red Hat 4.4.7-1)]"
        },
        {
         "module": "IPython",
         "version": "5.3.0"
        },
        {
         "module": "OS",
         "version": "Linux 4.10.0 35 generic x86_64 with debian stretch sid"
        },
        {
         "module": "numpy",
         "version": "1.13.1"
        },
        {
         "module": "matplotlib",
         "version": "2.0.2"
        },
        {
         "module": "phcalc",
         "version": "0.1.2"
        }
       ]
      },
      "text/html": [
       "<table><tr><th>Software</th><th>Version</th></tr><tr><td>Python</td><td>3.6.1 64bit [GCC 4.4.7 20120313 (Red Hat 4.4.7-1)]</td></tr><tr><td>IPython</td><td>5.3.0</td></tr><tr><td>OS</td><td>Linux 4.10.0 35 generic x86_64 with debian stretch sid</td></tr><tr><td>numpy</td><td>1.13.1</td></tr><tr><td>matplotlib</td><td>2.0.2</td></tr><tr><td>phcalc</td><td>0.1.2</td></tr><tr><td colspan='2'>Thu Oct 05 08:49:54 2017 CEST</td></tr></table>"
      ],
      "text/latex": [
       "\\begin{tabular}{|l|l|}\\hline\n",
       "{\\bf Software} & {\\bf Version} \\\\ \\hline\\hline\n",
       "Python & 3.6.1 64bit [GCC 4.4.7 20120313 (Red Hat 4.4.7-1)] \\\\ \\hline\n",
       "IPython & 5.3.0 \\\\ \\hline\n",
       "OS & Linux 4.10.0 35 generic x86\\_64 with debian stretch sid \\\\ \\hline\n",
       "numpy & 1.13.1 \\\\ \\hline\n",
       "matplotlib & 2.0.2 \\\\ \\hline\n",
       "phcalc & 0.1.2 \\\\ \\hline\n",
       "\\hline \\multicolumn{2}{|l|}{Thu Oct 05 08:49:54 2017 CEST} \\\\ \\hline\n",
       "\\end{tabular}\n"
      ],
      "text/plain": [
       "Software versions\n",
       "Python 3.6.1 64bit [GCC 4.4.7 20120313 (Red Hat 4.4.7-1)]\n",
       "IPython 5.3.0\n",
       "OS Linux 4.10.0 35 generic x86_64 with debian stretch sid\n",
       "numpy 1.13.1\n",
       "matplotlib 2.0.2\n",
       "phcalc 0.1.2\n",
       "Thu Oct 05 08:49:54 2017 CEST"
      ]
     },
     "execution_count": 18,
     "metadata": {},
     "output_type": "execute_result"
    }
   ],
   "source": [
    "%version_information numpy, matplotlib, phcalc"
   ]
  },
  {
   "cell_type": "code",
   "execution_count": null,
   "metadata": {
    "collapsed": true
   },
   "outputs": [],
   "source": []
  }
 ],
 "metadata": {
  "kernelspec": {
   "display_name": "Python 3",
   "language": "python",
   "name": "python3"
  },
  "language_info": {
   "codemirror_mode": {
    "name": "ipython",
    "version": 3
   },
   "file_extension": ".py",
   "mimetype": "text/x-python",
   "name": "python",
   "nbconvert_exporter": "python",
   "pygments_lexer": "ipython3",
   "version": "3.6.1"
  }
 },
 "nbformat": 4,
 "nbformat_minor": 2
}
